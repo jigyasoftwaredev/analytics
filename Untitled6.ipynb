{
 "cells": [
  {
   "cell_type": "code",
   "execution_count": 1,
   "metadata": {},
   "outputs": [],
   "source": [
    "import numpy as np\n",
    "import pandas as pd\n",
    "from pyspark.sql import SQLContext\n",
    "import glob\n",
    "import os\n",
    "from pyspark import SparkContext, SparkConf\n",
    "from pyspark.sql import SparkSession\n",
    "from pyspark.sql.types import *\n",
    "from pyspark.sql import SQLContext\n",
    "from pyspark.sql.functions import *\n",
    "\n",
    "\n",
    "path = '/home/krishna/Downloads/crimes_18_only.csv'\n",
    "crime_directories = glob.glob('/home/krishna/Downloads/crimes_18_only.csv')\n",
    "\n",
    "conf = SparkConf().setAppName(\"AWS1\")\n",
    "sc = SparkContext(conf = conf)\n",
    "\n",
    "# Configuring Spark Session\n",
    "spark = SparkSession(sc)\n",
    "\n",
    "# Creating SQL Context\n",
    "sqlContext = SQLContext(sc)\n",
    "\n",
    "# Loading CSV dataset in Spark Dataframe\n",
    "df = sqlContext.read.format('com.databricks.spark.csv')\\\n",
    "                    .options(header='false')\\\n",
    "                    .load(crime_directories)\n",
    "\n",
    "df = df.cache()\n",
    "total_df = df.count()\n"
   ]
  },
  {
   "cell_type": "code",
   "execution_count": 4,
   "metadata": {},
   "outputs": [
    {
     "name": "stdout",
     "output_type": "stream",
     "text": [
      "3817280\n"
     ]
    }
   ],
   "source": [
    "print total_df"
   ]
  },
  {
   "cell_type": "code",
   "execution_count": 10,
   "metadata": {},
   "outputs": [
    {
     "ename": "NameError",
     "evalue": "name 'taxi_df' is not defined",
     "output_type": "error",
     "traceback": [
      "\u001b[0;31m---------------------------------------------------------------------------\u001b[0m",
      "\u001b[0;31mNameError\u001b[0m                                 Traceback (most recent call last)",
      "\u001b[0;32m<ipython-input-10-2c94fb82433f>\u001b[0m in \u001b[0;36m<module>\u001b[0;34m()\u001b[0m\n\u001b[0;32m----> 1\u001b[0;31m \u001b[0mtaxi_df\u001b[0m\u001b[0;34m.\u001b[0m\u001b[0mfilter\u001b[0m\u001b[0;34m(\u001b[0m\u001b[0;34m\"_c9 = 'Burglary'\"\u001b[0m\u001b[0;34m)\u001b[0m\u001b[0;34m\u001b[0m\u001b[0m\n\u001b[0m",
      "\u001b[0;31mNameError\u001b[0m: name 'taxi_df' is not defined"
     ]
    }
   ],
   "source": [
    "df.filter(\"_c9 = 'Burglary'\")"
   ]
  },
  {
   "cell_type": "code",
   "execution_count": 6,
   "metadata": {},
   "outputs": [
    {
     "data": {
      "text/plain": [
       "[Row(_c0=u'4b89599348c51bcc80abf2fab1e55537b9f5473e9cd654259681be101beda819', _c1=u'2018-01', _c2=u'Avon and Somerset Constabulary', _c3=u'Avon and Somerset Constabulary', _c4=u'0.489518', _c5=u'51.560445', _c6=u'On or near Whytewaters', _c7=u'E01021311', _c8=u'Basildon 022C', _c9=u'Other crime', _c10=u'Investigation complete; no suspect identified', _c11=None),\n",
       " Row(_c0=None, _c1=u'2018-01', _c2=u'Avon and Somerset Constabulary', _c3=u'Avon and Somerset Constabulary', _c4=u'-2.516919', _c5=u'51.423683', _c6=u'On or near A4175', _c7=u'E01014399', _c8=u'Bath and North East Somerset 001A', _c9=u'Anti-social behaviour', _c10=None, _c11=None),\n",
       " Row(_c0=u'74128ab275c1aa107d67cd59d1d3210bd9fdc976e0c2c6b6aad058a9ef3f4e8d', _c1=u'2018-01', _c2=u'Avon and Somerset Constabulary', _c3=u'Avon and Somerset Constabulary', _c4=u'-2.515072', _c5=u'51.419357', _c6=u'On or near Stockwood Hill', _c7=u'E01014399', _c8=u'Bath and North East Somerset 001A', _c9=u'Burglary', _c10=u'Status update unavailable', _c11=None),\n",
       " Row(_c0=u'0417b3f4363b480f4d4c2a826be8cd4a957fffb818873e73bf3662698e2d734c', _c1=u'2018-01', _c2=u'Avon and Somerset Constabulary', _c3=u'Avon and Somerset Constabulary', _c4=u'-2.515816', _c5=u'51.408717', _c6=u'On or near Caroline Close', _c7=u'E01014399', _c8=u'Bath and North East Somerset 001A', _c9=u'Criminal damage and arson', _c10=u'Further investigation is not in the public interest', _c11=None),\n",
       " Row(_c0=u'0a404693ae14efee16186c98d4e63d5f2d1fc29d5efb1e317ce3e8a8e5f49733', _c1=u'2018-01', _c2=u'Avon and Somerset Constabulary', _c3=u'Avon and Somerset Constabulary', _c4=u'-2.494870', _c5=u'51.422276', _c6=u'On or near Conference/Exhibition Centre', _c7=u'E01014399', _c8=u'Bath and North East Somerset 001A', _c9=u'Criminal damage and arson', _c10=u'Status update unavailable', _c11=None),\n",
       " Row(_c0=u'2f02418280c300288de3aec278619e2b0fcfc8c83e7ffe552504660f489a4683', _c1=u'2018-01', _c2=u'Avon and Somerset Constabulary', _c3=u'Avon and Somerset Constabulary', _c4=u'-2.495055', _c5=u'51.422132', _c6=u'On or near Cross Street', _c7=u'E01014399', _c8=u'Bath and North East Somerset 001A', _c9=u'Criminal damage and arson', _c10=u'Status update unavailable', _c11=None),\n",
       " Row(_c0=u'32260926ecfec610aee50ab09c8041610df9b67c78034b1309bec610d4fb2aaf', _c1=u'2018-01', _c2=u'Avon and Somerset Constabulary', _c3=u'Avon and Somerset Constabulary', _c4=u'-2.512773', _c5=u'51.411751', _c6=u'On or near Westfield Close', _c7=u'E01014399', _c8=u'Bath and North East Somerset 001A', _c9=u'Other theft', _c10=u'Status update unavailable', _c11=None),\n",
       " Row(_c0=u'd1570aef4546eb5ae4e8b1976db9e0d009ca531f9bb642ab03a8def8231d8321', _c1=u'2018-01', _c2=u'Avon and Somerset Constabulary', _c3=u'Avon and Somerset Constabulary', _c4=u'-2.511761', _c5=u'51.409966', _c6=u'On or near Caernarvon Close', _c7=u'E01014399', _c8=u'Bath and North East Somerset 001A', _c9=u'Possession of weapons', _c10=u'Status update unavailable', _c11=None),\n",
       " Row(_c0=u'ba51a848551dbff1d99c1dcb3b2bd512b9508cda54c103c13345e748df869d82', _c1=u'2018-01', _c2=u'Avon and Somerset Constabulary', _c3=u'Avon and Somerset Constabulary', _c4=u'-2.515072', _c5=u'51.419357', _c6=u'On or near Stockwood Hill', _c7=u'E01014399', _c8=u'Bath and North East Somerset 001A', _c9=u'Public order', _c10=u'Status update unavailable', _c11=None),\n",
       " Row(_c0=u'e36cb6ffeb39683b4406decd6706d38ac08f766e3be3dc9991ad5b6c942e410d', _c1=u'2018-01', _c2=u'Avon and Somerset Constabulary', _c3=u'Avon and Somerset Constabulary', _c4=u'-2.513343', _c5=u'51.408772', _c6=u'On or near Lincoln Close', _c7=u'E01014399', _c8=u'Bath and North East Somerset 001A', _c9=u'Vehicle crime', _c10=u'Status update unavailable', _c11=None)]"
      ]
     },
     "execution_count": 6,
     "metadata": {},
     "output_type": "execute_result"
    }
   ],
   "source": [
    "rows"
   ]
  },
  {
   "cell_type": "code",
   "execution_count": null,
   "metadata": {},
   "outputs": [],
   "source": []
  }
 ],
 "metadata": {
  "kernelspec": {
   "display_name": "Python 2",
   "language": "python",
   "name": "python2"
  },
  "language_info": {
   "codemirror_mode": {
    "name": "ipython",
    "version": 2
   },
   "file_extension": ".py",
   "mimetype": "text/x-python",
   "name": "python",
   "nbconvert_exporter": "python",
   "pygments_lexer": "ipython2",
   "version": "2.7.15rc1"
  }
 },
 "nbformat": 4,
 "nbformat_minor": 2
}
