{
 "cells": [
  {
   "cell_type": "code",
   "execution_count": 2,
   "metadata": {},
   "outputs": [
    {
     "name": "stdout",
     "output_type": "stream",
     "text": [
      "Loading Crime DataSet Started\n"
     ]
    }
   ],
   "source": [
    "import numpy as np\n",
    "import pandas as pd\n",
    "from pyspark.sql import SQLContext\n",
    "import glob\n",
    "import os\n",
    "from pyspark import SparkContext, SparkConf\n",
    "from pyspark.sql import SparkSession\n",
    "from pyspark.sql.types import *\n",
    "from pyspark.sql import SQLContext\n",
    "from pyspark.sql.functions import *\n",
    "\n",
    "\n",
    "print \"Loading Crime DataSet Started\"\n",
    "path = '/home/krishna/Downloads/crimes_18_only.csv'\n",
    "crime_directories = glob.glob('/home/krishna/Downloads/crimes_18_only.csv')\n",
    "\n",
    "conf = SparkConf().setAppName(\"AWS1\")\n",
    "sc = SparkContext(conf = conf)\n",
    "\n",
    "# Configuring Spark Session\n",
    "spark = SparkSession(sc)\n",
    "\n",
    "# Creating SQL Context\n",
    "sqlContext = SQLContext(sc)\n",
    "\n",
    "house_directories = glob.glob('/home/krishna/Downloads/pp-2018.csv')\n",
    "df = sqlContext.read.format('com.databricks.spark.csv')\\\n",
    "                    .options(header='false')\\\n",
    "                    .load(house_directories)"
   ]
  },
  {
   "cell_type": "code",
   "execution_count": 3,
   "metadata": {},
   "outputs": [
    {
     "data": {
      "text/plain": [
       "1023150"
      ]
     },
     "execution_count": 3,
     "metadata": {},
     "output_type": "execute_result"
    }
   ],
   "source": [
    "df.count()"
   ]
  },
  {
   "cell_type": "code",
   "execution_count": 4,
   "metadata": {},
   "outputs": [
    {
     "data": {
      "text/plain": [
       "[Row(_c0=u'{79A74E21-D11E-1289-E053-6B04A8C01627}', _c1=u'770000', _c2=u'2018-09-25 00:00', _c3=u'SK7 1AR', _c4=u'D', _c5=u'N', _c6=u'F', _c7=u'5', _c8=None, _c9=u'OAK MEADOW', _c10=u'BRAMHALL', _c11=u'STOCKPORT', _c12=u'STOCKPORT', _c13=u'GREATER MANCHESTER', _c14=u'A', _c15=u'A'),\n",
       " Row(_c0=u'{79A74E21-D11F-1289-E053-6B04A8C01627}', _c1=u'253500', _c2=u'2018-09-24 00:00', _c3=u'M6 8GQ', _c4=u'D', _c5=u'N', _c6=u'F', _c7=u'1', _c8=None, _c9=u'RIVINGTON ROAD', _c10=None, _c11=u'SALFORD', _c12=u'SALFORD', _c13=u'GREATER MANCHESTER', _c14=u'A', _c15=u'A'),\n",
       " Row(_c0=u'{79A74E21-D120-1289-E053-6B04A8C01627}', _c1=u'231950', _c2=u'2018-09-28 00:00', _c3=u'WA3 2UE', _c4=u'D', _c5=u'Y', _c6=u'F', _c7=u'35', _c8=None, _c9=u'STONEACRE CLOSE', _c10=u'LOWTON', _c11=u'WARRINGTON', _c12=u'WIGAN', _c13=u'GREATER MANCHESTER', _c14=u'A', _c15=u'A'),\n",
       " Row(_c0=u'{79A74E21-D121-1289-E053-6B04A8C01627}', _c1=u'112500', _c2=u'2018-08-29 00:00', _c3=u'OL6 6RJ', _c4=u'S', _c5=u'N', _c6=u'F', _c7=u'102', _c8=None, _c9=u'THORNFIELD GROVE', _c10=None, _c11=u'ASHTON-UNDER-LYNE', _c12=u'TAMESIDE', _c13=u'GREATER MANCHESTER', _c14=u'A', _c15=u'A'),\n",
       " Row(_c0=u'{79A74E21-D122-1289-E053-6B04A8C01627}', _c1=u'184995', _c2=u'2018-06-15 00:00', _c3=u'M46 0TW', _c4=u'S', _c5=u'Y', _c6=u'F', _c7=u'37', _c8=None, _c9=u'THREADNEEDLE PLACE', _c10=u'ATHERTON', _c11=u'MANCHESTER', _c12=u'WIGAN', _c13=u'GREATER MANCHESTER', _c14=u'A', _c15=u'A'),\n",
       " Row(_c0=u'{79A74E21-D123-1289-E053-6B04A8C01627}', _c1=u'214995', _c2=u'2018-09-28 00:00', _c3=u'M28 3XS', _c4=u'D', _c5=u'Y', _c6=u'L', _c7=u'9', _c8=None, _c9=u'MARPLE GARDENS', _c10=u'WORSLEY', _c11=u'MANCHESTER', _c12=u'SALFORD', _c13=u'GREATER MANCHESTER', _c14=u'A', _c15=u'A'),\n",
       " Row(_c0=u'{79A74E21-D124-1289-E053-6B04A8C01627}', _c1=u'378000', _c2=u'2018-09-21 00:00', _c3=u'M45 7QN', _c4=u'D', _c5=u'N', _c6=u'L', _c7=u'36', _c8=None, _c9=u'HILLINGDON ROAD', _c10=u'WHITEFIELD', _c11=u'MANCHESTER', _c12=u'MANCHESTER', _c13=u'GREATER MANCHESTER', _c14=u'A', _c15=u'A'),\n",
       " Row(_c0=u'{79A74E21-D125-1289-E053-6B04A8C01627}', _c1=u'272500', _c2=u'2018-05-25 00:00', _c3=u'WN6 0GQ', _c4=u'D', _c5=u'Y', _c6=u'L', _c7=u'11', _c8=None, _c9=u'HEDGEBANK', _c10=u'STANDISH', _c11=u'WIGAN', _c12=u'WIGAN', _c13=u'GREATER MANCHESTER', _c14=u'A', _c15=u'A'),\n",
       " Row(_c0=u'{79A74E21-D127-1289-E053-6B04A8C01627}', _c1=u'169950', _c2=u'2018-09-20 00:00', _c3=u'WN6 0ZJ', _c4=u'S', _c5=u'Y', _c6=u'F', _c7=u'50', _c8=None, _c9=u'FOXTAIL MEADOW', _c10=u'STANDISH', _c11=u'WIGAN', _c12=u'WIGAN', _c13=u'GREATER MANCHESTER', _c14=u'A', _c15=u'A'),\n",
       " Row(_c0=u'{79A74E21-D128-1289-E053-6B04A8C01627}', _c1=u'260995', _c2=u'2018-08-30 00:00', _c3=u'WN6 0UU', _c4=u'D', _c5=u'Y', _c6=u'F', _c7=u'49', _c8=None, _c9=u'STABLEFORD CLOSE', _c10=u'STANDISH', _c11=u'WIGAN', _c12=u'WIGAN', _c13=u'GREATER MANCHESTER', _c14=u'A', _c15=u'A')]"
      ]
     },
     "execution_count": 4,
     "metadata": {},
     "output_type": "execute_result"
    }
   ],
   "source": [
    "df.head(10)"
   ]
  },
  {
   "cell_type": "code",
   "execution_count": 5,
   "metadata": {},
   "outputs": [],
   "source": [
    "from pyspark.sql.functions import mean as _mean, stddev as _stddev, col\n"
   ]
  },
  {
   "cell_type": "code",
   "execution_count": 6,
   "metadata": {},
   "outputs": [],
   "source": [
    "df_stats = df.select(\n",
    "    _mean(col('_c1')).alias('mean'),\n",
    ").collect()"
   ]
  },
  {
   "cell_type": "code",
   "execution_count": 7,
   "metadata": {},
   "outputs": [
    {
     "data": {
      "text/plain": [
       "349707.0311342423"
      ]
     },
     "execution_count": 7,
     "metadata": {},
     "output_type": "execute_result"
    }
   ],
   "source": [
    "df_stats[0]['mean']"
   ]
  },
  {
   "cell_type": "code",
   "execution_count": 9,
   "metadata": {},
   "outputs": [],
   "source": [
    "ss = df.groupBy(col(\"_c3\"))"
   ]
  },
  {
   "cell_type": "code",
   "execution_count": 10,
   "metadata": {},
   "outputs": [
    {
     "data": {
      "text/plain": [
       "<pyspark.sql.group.GroupedData at 0x7f4ab3fa3890>"
      ]
     },
     "execution_count": 10,
     "metadata": {},
     "output_type": "execute_result"
    }
   ],
   "source": [
    "ss"
   ]
  },
  {
   "cell_type": "code",
   "execution_count": 15,
   "metadata": {},
   "outputs": [],
   "source": [
    "\n",
    "from pyspark.sql import functions as F\n",
    "calc_mean = df.groupBy(\"_c3\").agg(F.mean('_c1'))"
   ]
  },
  {
   "cell_type": "code",
   "execution_count": 16,
   "metadata": {},
   "outputs": [
    {
     "data": {
      "text/plain": [
       "538092"
      ]
     },
     "execution_count": 16,
     "metadata": {},
     "output_type": "execute_result"
    }
   ],
   "source": [
    "calc_mean.count()"
   ]
  },
  {
   "cell_type": "code",
   "execution_count": 22,
   "metadata": {},
   "outputs": [],
   "source": [
    "year_df = df.select(dayofyear('_c2').alias('year')).collect()"
   ]
  },
  {
   "cell_type": "code",
   "execution_count": 55,
   "metadata": {},
   "outputs": [],
   "source": [
    "from pyspark.sql.functions import col\n",
    "\n",
    "filter_date = df.filter(col(\"_c2\").contains(\"2018\"))\n"
   ]
  },
  {
   "cell_type": "code",
   "execution_count": 56,
   "metadata": {},
   "outputs": [
    {
     "data": {
      "text/plain": [
       "1023150"
      ]
     },
     "execution_count": 56,
     "metadata": {},
     "output_type": "execute_result"
    }
   ],
   "source": [
    "filter_date.count()"
   ]
  },
  {
   "cell_type": "code",
   "execution_count": 53,
   "metadata": {},
   "outputs": [
    {
     "data": {
      "text/plain": [
       "[Row(_c3=u'BB3 1HE', avg(_c1)=82000.0),\n",
       " Row(_c3=u'LN12 2HH', avg(_c1)=234666.66666666666),\n",
       " Row(_c3=u'TN27 9NE', avg(_c1)=194666.66666666666),\n",
       " Row(_c3=u'TF9 3FS', avg(_c1)=302187.5),\n",
       " Row(_c3=u'PR7 3EQ', avg(_c1)=103000.0),\n",
       " Row(_c3=u'DN4 5EA', avg(_c1)=102250.0),\n",
       " Row(_c3=u'NG2 7QH', avg(_c1)=160000.0),\n",
       " Row(_c3=u'DA5 1NT', avg(_c1)=385000.0),\n",
       " Row(_c3=u'ST2 9BU', avg(_c1)=85500.0),\n",
       " Row(_c3=u'ST4 6FE', avg(_c1)=182280.76923076922)]"
      ]
     },
     "execution_count": 53,
     "metadata": {},
     "output_type": "execute_result"
    }
   ],
   "source": [
    "calc_mean.head(10)"
   ]
  },
  {
   "cell_type": "code",
   "execution_count": null,
   "metadata": {},
   "outputs": [],
   "source": [
    "df.filter()"
   ]
  },
  {
   "cell_type": "code",
   "execution_count": 60,
   "metadata": {},
   "outputs": [],
   "source": [
    "new_df = filter_date.join(calc_mean, on=['_c3'],how='left_outer')"
   ]
  },
  {
   "cell_type": "code",
   "execution_count": 61,
   "metadata": {},
   "outputs": [
    {
     "data": {
      "text/plain": [
       "1023150"
      ]
     },
     "execution_count": 61,
     "metadata": {},
     "output_type": "execute_result"
    }
   ],
   "source": [
    "new_df.count()"
   ]
  },
  {
   "cell_type": "code",
   "execution_count": 64,
   "metadata": {},
   "outputs": [
    {
     "data": {
      "text/plain": [
       "[Row(_c3=u'AL1 1TG', _c0=u'{7E86B6FA-D924-458C-E053-6B04A8C0C84C}', _c1=u'1043050', _c2=u'2018-10-19 00:00', _c4=u'D', _c5=u'N', _c6=u'F', _c7=u'7', _c8=None, _c9=u'NEW BARNES AVENUE', _c10=None, _c11=u'ST ALBANS', _c12=u'ST ALBANS', _c13=u'HERTFORDSHIRE', _c14=u'A', _c15=u'A', avg(_c1)=1043050.0),\n",
       " Row(_c3=u'AL1 4TZ', _c0=u'{666758D6-D601-3363-E053-6B04A8C0D74E}', _c1=u'950000', _c2=u'2018-01-19 00:00', _c4=u'S', _c5=u'N', _c6=u'F', _c7=u'69', _c8=None, _c9=u'SALISBURY AVENUE', _c10=None, _c11=u'ST ALBANS', _c12=u'ST ALBANS', _c13=u'HERTFORDSHIRE', _c14=u'A', _c15=u'A', avg(_c1)=950000.0),\n",
       " Row(_c3=u'AL3 4RB', _c0=u'{79A74E21-8FE5-1289-E053-6B04A8C01627}', _c1=u'592000', _c2=u'2018-10-10 00:00', _c4=u'T', _c5=u'N', _c6=u'F', _c7=u'44', _c8=None, _c9=u'PORTLAND STREET', _c10=None, _c11=u'ST ALBANS', _c12=u'ST ALBANS', _c13=u'HERTFORDSHIRE', _c14=u'A', _c15=u'A', avg(_c1)=592000.0),\n",
       " Row(_c3=u'AL4 0QF', _c0=u'{6DA08449-EEA3-30F2-E053-6B04A8C05F3B}', _c1=u'217000', _c2=u'2018-03-01 00:00', _c4=u'F', _c5=u'N', _c6=u'L', _c7=u'43', _c8=None, _c9=u'HALL GARDENS', _c10=u'COLNEY HEATH', _c11=u'ST ALBANS', _c12=u'ST ALBANS', _c13=u'HERTFORDSHIRE', _c14=u'A', _c15=u'A', avg(_c1)=217000.0),\n",
       " Row(_c3=u'AL4 8PA', _c0=u'{7C2D0700-1515-4963-E053-6B04A8C07B97}', _c1=u'495000', _c2=u'2018-11-01 00:00', _c4=u'S', _c5=u'N', _c6=u'F', _c7=u'71', _c8=None, _c9=u'CAESARS ROAD', _c10=u'WHEATHAMPSTEAD', _c11=u'ST ALBANS', _c12=u'ST ALBANS', _c13=u'HERTFORDSHIRE', _c14=u'A', _c15=u'A', avg(_c1)=495000.0),\n",
       " Row(_c3=u'AL4 8QE', _c0=u'{80E1AA98-18BE-7BF8-E053-6C04A8C00BF2}', _c1=u'800000', _c2=u'2018-12-10 00:00', _c4=u'D', _c5=u'N', _c6=u'F', _c7=u'24A', _c8=None, _c9=u'LATTIMORE ROAD', _c10=u'WHEATHAMPSTEAD', _c11=u'ST ALBANS', _c12=u'ST ALBANS', _c13=u'HERTFORDSHIRE', _c14=u'A', _c15=u'A', avg(_c1)=800000.0),\n",
       " Row(_c3=u'AL4 9JZ', _c0=u'{80E1AA98-1911-7BF8-E053-6C04A8C00BF2}', _c1=u'250000', _c2=u'2018-12-20 00:00', _c4=u'F', _c5=u'N', _c6=u'L', _c7=u'THE LARCHES', _c8=u'FLAT 21', _c9=u'MILFORD CLOSE', _c10=None, _c11=u'ST ALBANS', _c12=u'ST ALBANS', _c13=u'HERTFORDSHIRE', _c14=u'A', _c15=u'A', avg(_c1)=250000.0),\n",
       " Row(_c3=u'AL5 2RY', _c0=u'{7E86B6FB-AAB4-458C-E053-6B04A8C0C84C}', _c1=u'1040000', _c2=u'2018-12-07 00:00', _c4=u'O', _c5=u'N', _c6=u'L', _c7=u'21', _c8=None, _c9=u'HIGH STREET', _c10=None, _c11=u'HARPENDEN', _c12=u'ST ALBANS', _c13=u'HERTFORDSHIRE', _c14=u'B', _c15=u'A', avg(_c1)=1040000.0),\n",
       " Row(_c3=u'AL5 3PY', _c0=u'{666758D6-D673-3363-E053-6B04A8C0D74E}', _c1=u'1195000', _c2=u'2018-01-29 00:00', _c4=u'D', _c5=u'N', _c6=u'F', _c7=u'COLES HOUSE', _c8=None, _c9=u'COLES LANE', _c10=None, _c11=u'HARPENDEN', _c12=u'ST ALBANS', _c13=u'HERTFORDSHIRE', _c14=u'A', _c15=u'A', avg(_c1)=1195000.0),\n",
       " Row(_c3=u'AL5 4AH', _c0=u'{79A74E21-931C-1289-E053-6B04A8C01627}', _c1=u'445000', _c2=u'2018-10-12 00:00', _c4=u'F', _c5=u'N', _c6=u'L', _c7=u'24', _c8=None, _c9=u'CLARENCE ROAD', _c10=None, _c11=u'HARPENDEN', _c12=u'ST ALBANS', _c13=u'HERTFORDSHIRE', _c14=u'A', _c15=u'A', avg(_c1)=445000.0),\n",
       " Row(_c3=u'AL6 0RZ', _c0=u'{726BF13A-C63F-0A46-E053-6C04A8C01D0D}', _c1=u'499995', _c2=u'2018-07-12 00:00', _c4=u'D', _c5=u'N', _c6=u'F', _c7=u'8', _c8=None, _c9=u'WOODLAND WAY', _c10=None, _c11=u'WELWYN', _c12=u'WELWYN HATFIELD', _c13=u'HERTFORDSHIRE', _c14=u'A', _c15=u'A', avg(_c1)=569997.5),\n",
       " Row(_c3=u'AL6 0RZ', _c0=u'{79A74E21-929E-1289-E053-6B04A8C01627}', _c1=u'640000', _c2=u'2018-10-09 00:00', _c4=u'D', _c5=u'N', _c6=u'F', _c7=u'9', _c8=None, _c9=u'WOODLAND WAY', _c10=None, _c11=u'WELWYN', _c12=u'WELWYN HATFIELD', _c13=u'HERTFORDSHIRE', _c14=u'A', _c15=u'A', avg(_c1)=569997.5),\n",
       " Row(_c3=u'AL6 0SB', _c0=u'{7E86B6FA-D6FD-458C-E053-6B04A8C0C84C}', _c1=u'750000', _c2=u'2018-12-10 00:00', _c4=u'D', _c5=u'N', _c6=u'F', _c7=u'1A', _c8=None, _c9=u'CHESTNUT WALK', _c10=None, _c11=u'WELWYN', _c12=u'WELWYN HATFIELD', _c13=u'HERTFORDSHIRE', _c14=u'A', _c15=u'A', avg(_c1)=750000.0),\n",
       " Row(_c3=u'AL6 9FU', _c0=u'{79A74E21-9464-1289-E053-6B04A8C01627}', _c1=u'900000', _c2=u'2018-09-21 00:00', _c4=u'S', _c5=u'N', _c6=u'F', _c7=u'4', _c8=None, _c9=u'REEVES COURT', _c10=None, _c11=u'WELWYN', _c12=u'WELWYN HATFIELD', _c13=u'HERTFORDSHIRE', _c14=u'A', _c15=u'A', avg(_c1)=900000.0),\n",
       " Row(_c3=u'AL7 4FP', _c0=u'{7C2D0700-19D0-4963-E053-6B04A8C07B97}', _c1=u'332495', _c2=u'2018-07-26 00:00', _c4=u'F', _c5=u'Y', _c6=u'L', _c7=u'41', _c8=None, _c9=u'DUCHESS COURT', _c10=None, _c11=u'WELWYN GARDEN CITY', _c12=u'WELWYN HATFIELD', _c13=u'HERTFORDSHIRE', _c14=u'A', _c15=u'A', avg(_c1)=341059.1304347826),\n",
       " Row(_c3=u'AL7 4FP', _c0=u'{7C2D0700-19D4-4963-E053-6B04A8C07B97}', _c1=u'322995', _c2=u'2018-07-27 00:00', _c4=u'F', _c5=u'Y', _c6=u'L', _c7=u'14', _c8=None, _c9=u'DUCHESS COURT', _c10=None, _c11=u'WELWYN GARDEN CITY', _c12=u'WELWYN HATFIELD', _c13=u'HERTFORDSHIRE', _c14=u'A', _c15=u'A', avg(_c1)=341059.1304347826),\n",
       " Row(_c3=u'AL7 4FP', _c0=u'{7C2D0700-19D6-4963-E053-6B04A8C07B97}', _c1=u'317995', _c2=u'2018-07-27 00:00', _c4=u'F', _c5=u'Y', _c6=u'L', _c7=u'8', _c8=None, _c9=u'DUCHESS COURT', _c10=None, _c11=u'WELWYN GARDEN CITY', _c12=u'WELWYN HATFIELD', _c13=u'HERTFORDSHIRE', _c14=u'A', _c15=u'A', avg(_c1)=341059.1304347826),\n",
       " Row(_c3=u'AL7 4FP', _c0=u'{7C2D0700-19D9-4963-E053-6B04A8C07B97}', _c1=u'327500', _c2=u'2018-07-30 00:00', _c4=u'F', _c5=u'Y', _c6=u'L', _c7=u'39', _c8=None, _c9=u'DUCHESS COURT', _c10=None, _c11=u'WELWYN GARDEN CITY', _c12=u'WELWYN HATFIELD', _c13=u'HERTFORDSHIRE', _c14=u'A', _c15=u'A', avg(_c1)=341059.1304347826),\n",
       " Row(_c3=u'AL7 4FP', _c0=u'{7C2D0700-19DD-4963-E053-6B04A8C07B97}', _c1=u'289995', _c2=u'2018-07-27 00:00', _c4=u'F', _c5=u'Y', _c6=u'L', _c7=u'40', _c8=None, _c9=u'DUCHESS COURT', _c10=None, _c11=u'WELWYN GARDEN CITY', _c12=u'WELWYN HATFIELD', _c13=u'HERTFORDSHIRE', _c14=u'A', _c15=u'A', avg(_c1)=341059.1304347826),\n",
       " Row(_c3=u'AL7 4FP', _c0=u'{7C2D0700-19E7-4963-E053-6B04A8C07B97}', _c1=u'337495', _c2=u'2018-07-30 00:00', _c4=u'F', _c5=u'Y', _c6=u'L', _c7=u'46', _c8=None, _c9=u'DUCHESS COURT', _c10=None, _c11=u'WELWYN GARDEN CITY', _c12=u'WELWYN HATFIELD', _c13=u'HERTFORDSHIRE', _c14=u'A', _c15=u'A', avg(_c1)=341059.1304347826)]"
      ]
     },
     "execution_count": 64,
     "metadata": {},
     "output_type": "execute_result"
    }
   ],
   "source": [
    "new_df.head(20)"
   ]
  },
  {
   "cell_type": "code",
   "execution_count": 86,
   "metadata": {},
   "outputs": [
    {
     "name": "stdout",
     "output_type": "stream",
     "text": [
      "<type 'float'>\n",
      "<type 'float'>\n",
      "<type 'float'>\n",
      "<type 'float'>\n",
      "<type 'float'>\n"
     ]
    }
   ],
   "source": [
    "rows = new_df.head(5)\n",
    "for row in rows:\n",
    "    print type(row['avg(_c1)'])"
   ]
  },
  {
   "cell_type": "code",
   "execution_count": 78,
   "metadata": {},
   "outputs": [
    {
     "ename": "AttributeError",
     "evalue": "'DataFrame' object has no attribute 'cast'",
     "output_type": "error",
     "traceback": [
      "\u001b[0;31m---------------------------------------------------------------------------\u001b[0m",
      "\u001b[0;31mAttributeError\u001b[0m                            Traceback (most recent call last)",
      "\u001b[0;32m<ipython-input-78-f44e02a3f8ac>\u001b[0m in \u001b[0;36m<module>\u001b[0;34m()\u001b[0m\n\u001b[0;32m----> 1\u001b[0;31m \u001b[0mfill\u001b[0m \u001b[0;34m=\u001b[0m \u001b[0mnew_df\u001b[0m\u001b[0;34m.\u001b[0m\u001b[0mwithColumn\u001b[0m\u001b[0;34m(\u001b[0m\u001b[0;34m\"_c1\"\u001b[0m\u001b[0;34m,\u001b[0m \u001b[0mnew_df\u001b[0m\u001b[0;34m.\u001b[0m\u001b[0mcast\u001b[0m\u001b[0;34m(\u001b[0m\u001b[0;34m'float'\u001b[0m\u001b[0;34m)\u001b[0m\u001b[0;34m)\u001b[0m\u001b[0;34m\u001b[0m\u001b[0m\n\u001b[0m",
      "\u001b[0;32m/usr/local/lib/python2.7/dist-packages/pyspark/sql/dataframe.pyc\u001b[0m in \u001b[0;36m__getattr__\u001b[0;34m(self, name)\u001b[0m\n\u001b[1;32m   1299\u001b[0m         \u001b[0;32mif\u001b[0m \u001b[0mname\u001b[0m \u001b[0;32mnot\u001b[0m \u001b[0;32min\u001b[0m \u001b[0mself\u001b[0m\u001b[0;34m.\u001b[0m\u001b[0mcolumns\u001b[0m\u001b[0;34m:\u001b[0m\u001b[0;34m\u001b[0m\u001b[0m\n\u001b[1;32m   1300\u001b[0m             raise AttributeError(\n\u001b[0;32m-> 1301\u001b[0;31m                 \"'%s' object has no attribute '%s'\" % (self.__class__.__name__, name))\n\u001b[0m\u001b[1;32m   1302\u001b[0m         \u001b[0mjc\u001b[0m \u001b[0;34m=\u001b[0m \u001b[0mself\u001b[0m\u001b[0;34m.\u001b[0m\u001b[0m_jdf\u001b[0m\u001b[0;34m.\u001b[0m\u001b[0mapply\u001b[0m\u001b[0;34m(\u001b[0m\u001b[0mname\u001b[0m\u001b[0;34m)\u001b[0m\u001b[0;34m\u001b[0m\u001b[0m\n\u001b[1;32m   1303\u001b[0m         \u001b[0;32mreturn\u001b[0m \u001b[0mColumn\u001b[0m\u001b[0;34m(\u001b[0m\u001b[0mjc\u001b[0m\u001b[0;34m)\u001b[0m\u001b[0;34m\u001b[0m\u001b[0m\n",
      "\u001b[0;31mAttributeError\u001b[0m: 'DataFrame' object has no attribute 'cast'"
     ]
    }
   ],
   "source": [
    "from pyspark.sql.types import IType\n",
    "data_df = data_df.withColumn(\"Plays\", data_df[\"Plays\"].cast(IntegerType()))"
   ]
  },
  {
   "cell_type": "code",
   "execution_count": 92,
   "metadata": {},
   "outputs": [],
   "source": [
    "from pyspark.sql.types import DoubleType\n",
    "new_df = new_df.withColumn(\"_c1\", new_df[\"_c1\"].cast(DoubleType()))"
   ]
  },
  {
   "cell_type": "code",
   "execution_count": 93,
   "metadata": {},
   "outputs": [
    {
     "data": {
      "text/plain": [
       "DataFrame[_c3: string, _c0: string, _c1: double, _c2: string, _c4: string, _c5: string, _c6: string, _c7: string, _c8: string, _c9: string, _c10: string, _c11: string, _c12: string, _c13: string, _c14: string, _c15: string, avg(_c1): double, Plays: float]"
      ]
     },
     "execution_count": 93,
     "metadata": {},
     "output_type": "execute_result"
    }
   ],
   "source": [
    "new_df"
   ]
  },
  {
   "cell_type": "code",
   "execution_count": 96,
   "metadata": {},
   "outputs": [
    {
     "data": {
      "text/plain": [
       "[Row(_c3=u'AL1 1TG', _c0=u'{7E86B6FA-D924-458C-E053-6B04A8C0C84C}', _c1=1043050.0, _c2=u'2018-10-19 00:00', _c4=u'D', _c5=u'N', _c6=u'F', _c7=u'7', _c8=None, _c9=u'NEW BARNES AVENUE', _c10=None, _c11=u'ST ALBANS', _c12=u'ST ALBANS', _c13=u'HERTFORDSHIRE', _c14=u'A', _c15=u'A', avg(_c1)=1043050.0, Plays=1043050.0),\n",
       " Row(_c3=u'AL1 4TZ', _c0=u'{666758D6-D601-3363-E053-6B04A8C0D74E}', _c1=950000.0, _c2=u'2018-01-19 00:00', _c4=u'S', _c5=u'N', _c6=u'F', _c7=u'69', _c8=None, _c9=u'SALISBURY AVENUE', _c10=None, _c11=u'ST ALBANS', _c12=u'ST ALBANS', _c13=u'HERTFORDSHIRE', _c14=u'A', _c15=u'A', avg(_c1)=950000.0, Plays=950000.0),\n",
       " Row(_c3=u'AL3 4RB', _c0=u'{79A74E21-8FE5-1289-E053-6B04A8C01627}', _c1=592000.0, _c2=u'2018-10-10 00:00', _c4=u'T', _c5=u'N', _c6=u'F', _c7=u'44', _c8=None, _c9=u'PORTLAND STREET', _c10=None, _c11=u'ST ALBANS', _c12=u'ST ALBANS', _c13=u'HERTFORDSHIRE', _c14=u'A', _c15=u'A', avg(_c1)=592000.0, Plays=592000.0),\n",
       " Row(_c3=u'AL4 0QF', _c0=u'{6DA08449-EEA3-30F2-E053-6B04A8C05F3B}', _c1=217000.0, _c2=u'2018-03-01 00:00', _c4=u'F', _c5=u'N', _c6=u'L', _c7=u'43', _c8=None, _c9=u'HALL GARDENS', _c10=u'COLNEY HEATH', _c11=u'ST ALBANS', _c12=u'ST ALBANS', _c13=u'HERTFORDSHIRE', _c14=u'A', _c15=u'A', avg(_c1)=217000.0, Plays=217000.0),\n",
       " Row(_c3=u'AL4 8PA', _c0=u'{7C2D0700-1515-4963-E053-6B04A8C07B97}', _c1=495000.0, _c2=u'2018-11-01 00:00', _c4=u'S', _c5=u'N', _c6=u'F', _c7=u'71', _c8=None, _c9=u'CAESARS ROAD', _c10=u'WHEATHAMPSTEAD', _c11=u'ST ALBANS', _c12=u'ST ALBANS', _c13=u'HERTFORDSHIRE', _c14=u'A', _c15=u'A', avg(_c1)=495000.0, Plays=495000.0),\n",
       " Row(_c3=u'AL4 8QE', _c0=u'{80E1AA98-18BE-7BF8-E053-6C04A8C00BF2}', _c1=800000.0, _c2=u'2018-12-10 00:00', _c4=u'D', _c5=u'N', _c6=u'F', _c7=u'24A', _c8=None, _c9=u'LATTIMORE ROAD', _c10=u'WHEATHAMPSTEAD', _c11=u'ST ALBANS', _c12=u'ST ALBANS', _c13=u'HERTFORDSHIRE', _c14=u'A', _c15=u'A', avg(_c1)=800000.0, Plays=800000.0),\n",
       " Row(_c3=u'AL4 9JZ', _c0=u'{80E1AA98-1911-7BF8-E053-6C04A8C00BF2}', _c1=250000.0, _c2=u'2018-12-20 00:00', _c4=u'F', _c5=u'N', _c6=u'L', _c7=u'THE LARCHES', _c8=u'FLAT 21', _c9=u'MILFORD CLOSE', _c10=None, _c11=u'ST ALBANS', _c12=u'ST ALBANS', _c13=u'HERTFORDSHIRE', _c14=u'A', _c15=u'A', avg(_c1)=250000.0, Plays=250000.0),\n",
       " Row(_c3=u'AL5 2RY', _c0=u'{7E86B6FB-AAB4-458C-E053-6B04A8C0C84C}', _c1=1040000.0, _c2=u'2018-12-07 00:00', _c4=u'O', _c5=u'N', _c6=u'L', _c7=u'21', _c8=None, _c9=u'HIGH STREET', _c10=None, _c11=u'HARPENDEN', _c12=u'ST ALBANS', _c13=u'HERTFORDSHIRE', _c14=u'B', _c15=u'A', avg(_c1)=1040000.0, Plays=1040000.0),\n",
       " Row(_c3=u'AL5 3PY', _c0=u'{666758D6-D673-3363-E053-6B04A8C0D74E}', _c1=1195000.0, _c2=u'2018-01-29 00:00', _c4=u'D', _c5=u'N', _c6=u'F', _c7=u'COLES HOUSE', _c8=None, _c9=u'COLES LANE', _c10=None, _c11=u'HARPENDEN', _c12=u'ST ALBANS', _c13=u'HERTFORDSHIRE', _c14=u'A', _c15=u'A', avg(_c1)=1195000.0, Plays=1195000.0),\n",
       " Row(_c3=u'AL5 4AH', _c0=u'{79A74E21-931C-1289-E053-6B04A8C01627}', _c1=445000.0, _c2=u'2018-10-12 00:00', _c4=u'F', _c5=u'N', _c6=u'L', _c7=u'24', _c8=None, _c9=u'CLARENCE ROAD', _c10=None, _c11=u'HARPENDEN', _c12=u'ST ALBANS', _c13=u'HERTFORDSHIRE', _c14=u'A', _c15=u'A', avg(_c1)=445000.0, Plays=445000.0)]"
      ]
     },
     "execution_count": 96,
     "metadata": {},
     "output_type": "execute_result"
    }
   ],
   "source": [
    "new_df.head(10)"
   ]
  },
  {
   "cell_type": "code",
   "execution_count": null,
   "metadata": {},
   "outputs": [],
   "source": []
  }
 ],
 "metadata": {
  "kernelspec": {
   "display_name": "Python 2",
   "language": "python",
   "name": "python2"
  }
 },
 "nbformat": 4,
 "nbformat_minor": 2
}
